{
  "nbformat": 4,
  "nbformat_minor": 0,
  "metadata": {
    "colab": {
      "provenance": []
    },
    "kernelspec": {
      "name": "python3",
      "display_name": "Python 3"
    },
    "language_info": {
      "name": "python"
    }
  },
  "cells": [
    {
      "cell_type": "markdown",
      "source": [
        "#Python Array Programs"
      ],
      "metadata": {
        "id": "vJt1rS4P8q7O"
      }
    },
    {
      "cell_type": "code",
      "source": [
        "'''\n",
        "1. It is used to store multiple values in single variable.These values are called as elements and they are of single data type.\n",
        "\n",
        "2. Basic Operations to be performed on array : \n",
        "- Transverse\n",
        "- Insertion\n",
        "- Deletion\n",
        "- Search\n",
        "- Update"
      ],
      "metadata": {
        "id": "N4s7x65Cp3tY"
      },
      "execution_count": null,
      "outputs": []
    },
    {
      "cell_type": "markdown",
      "source": [
        "1. Copy an array"
      ],
      "metadata": {
        "id": "UqfZxNDPGeto"
      }
    },
    {
      "cell_type": "code",
      "source": [
        "a1=[1,2,3,4]\n",
        "a2=a1.copy()\n",
        "print(a2)"
      ],
      "metadata": {
        "colab": {
          "base_uri": "https://localhost:8080/"
        },
        "id": "UFTwffLeGVoR",
        "outputId": "6dcc2860-df43-46aa-a13d-736ffaf86970"
      },
      "execution_count": null,
      "outputs": [
        {
          "output_type": "stream",
          "name": "stdout",
          "text": [
            "[1, 2, 3, 4]\n"
          ]
        }
      ]
    },
    {
      "cell_type": "code",
      "source": [
        "a1=[1,2,3,4]\n",
        "a2=[]\n",
        "for i in range(0,len(a1)):\n",
        "  a2.append(a1[i])\n",
        "print(a2)"
      ],
      "metadata": {
        "colab": {
          "base_uri": "https://localhost:8080/"
        },
        "id": "V6LKTUhhGqzA",
        "outputId": "f3ab7b0f-e8ee-47f3-c13b-635d91e64e93"
      },
      "execution_count": null,
      "outputs": [
        {
          "output_type": "stream",
          "name": "stdout",
          "text": [
            "[1, 2, 3, 4]\n"
          ]
        }
      ]
    },
    {
      "cell_type": "code",
      "source": [
        "a1=[1,2,3,4]\n",
        "a2=[]\n",
        "# for i in range(0,len(a1)):\n",
        "a2=a1\n",
        "print(a2)  "
      ],
      "metadata": {
        "colab": {
          "base_uri": "https://localhost:8080/"
        },
        "id": "kaAPthEOJhTB",
        "outputId": "3f8e33ed-0548-4b96-9eea-ac563f1d1a83"
      },
      "execution_count": null,
      "outputs": [
        {
          "output_type": "stream",
          "name": "stdout",
          "text": [
            "[1, 2, 3, 4]\n"
          ]
        }
      ]
    },
    {
      "cell_type": "markdown",
      "source": [
        "2. Freq of an element in an array."
      ],
      "metadata": {
        "id": "d62hlS8IJ6cD"
      }
    },
    {
      "cell_type": "code",
      "source": [
        "a1=[1,2,3,4,3,2,2,2]\n",
        "for i in range(0,len(a1)-1):\n",
        "  print(a1[i],\" occurs ----> \",a1.count(a1[i]),\"times.\")"
      ],
      "metadata": {
        "colab": {
          "base_uri": "https://localhost:8080/"
        },
        "id": "deipLYFQPhbu",
        "outputId": "3c09bb4d-0bb8-41f6-ca63-e7fc3b2050bd"
      },
      "execution_count": null,
      "outputs": [
        {
          "output_type": "stream",
          "name": "stdout",
          "text": [
            "1  occurs ---->  1 times.\n",
            "2  occurs ---->  4 times.\n",
            "3  occurs ---->  2 times.\n",
            "4  occurs ---->  1 times.\n",
            "3  occurs ---->  2 times.\n",
            "2  occurs ---->  4 times.\n",
            "2  occurs ---->  4 times.\n"
          ]
        }
      ]
    },
    {
      "cell_type": "code",
      "source": [
        "a1=[1,2,3,4,3,2,2,2]\n",
        "u=list(set(a1))\n",
        "for i in range(0,len(u)):\n",
        "  print(a1[i],\" occurs ----> \",a1.count(a1[i]),\"times.\")"
      ],
      "metadata": {
        "colab": {
          "base_uri": "https://localhost:8080/"
        },
        "id": "lVFmt5EtMrDY",
        "outputId": "6a920e43-7a45-4607-d18c-71fa48d4afaf"
      },
      "execution_count": null,
      "outputs": [
        {
          "output_type": "stream",
          "name": "stdout",
          "text": [
            "1  occurs ---->  1 times.\n",
            "2  occurs ---->  4 times.\n",
            "3  occurs ---->  2 times.\n",
            "4  occurs ---->  1 times.\n"
          ]
        }
      ]
    },
    {
      "cell_type": "markdown",
      "source": [
        "3. Left Rotation of an array."
      ],
      "metadata": {
        "id": "-7mGqfOcSNZL"
      }
    },
    {
      "cell_type": "code",
      "source": [
        "a1=[1,2,3,4]\n",
        "#no. of left rotation=n\n",
        "n=3\n",
        "for i in range(0,n):\n",
        "  first=a1[0]\n",
        "  for j in range(0,len(a1)-1):\n",
        "    a1[j]=a1[j+1]\n",
        "  a1[len(a1)-1]=first\n",
        "print(a1)"
      ],
      "metadata": {
        "colab": {
          "base_uri": "https://localhost:8080/"
        },
        "id": "u3Tt0tbLR3kx",
        "outputId": "22c09637-a40a-49e0-adba-55fa1f3249c6"
      },
      "execution_count": null,
      "outputs": [
        {
          "output_type": "stream",
          "name": "stdout",
          "text": [
            "[4, 1, 2, 3]\n"
          ]
        }
      ]
    },
    {
      "cell_type": "markdown",
      "source": [
        "4. Duplicate elements of an array."
      ],
      "metadata": {
        "id": "dWH6k1uiVMPy"
      }
    },
    {
      "cell_type": "code",
      "source": [
        "a1=[1,2,3,4,3,2]\n",
        "for i in range(0,len(a1)):\n",
        "  for j in range(i+1,len(a1)):\n",
        "    if (a1[i]==a1[j]):\n",
        "       print(a1[j])"
      ],
      "metadata": {
        "colab": {
          "base_uri": "https://localhost:8080/"
        },
        "id": "IxSDoCWzVLrH",
        "outputId": "58b2d809-4c62-4b4e-db45-64c2d5c9637d"
      },
      "execution_count": null,
      "outputs": [
        {
          "output_type": "stream",
          "name": "stdout",
          "text": [
            "2\n",
            "3\n"
          ]
        }
      ]
    },
    {
      "cell_type": "markdown",
      "source": [
        "5. Array in reverse order"
      ],
      "metadata": {
        "id": "DB_vrAGxdGrx"
      }
    },
    {
      "cell_type": "code",
      "source": [
        "a1=[1,2,3,4,3,2]\n",
        "a2=a1[::-1]\n",
        "print(a2)"
      ],
      "metadata": {
        "id": "VBYzz27FdDpj",
        "colab": {
          "base_uri": "https://localhost:8080/"
        },
        "outputId": "323e048d-48d0-44ed-b2e1-11e1c78a276c"
      },
      "execution_count": null,
      "outputs": [
        {
          "output_type": "stream",
          "name": "stdout",
          "text": [
            "[2, 3, 4, 3, 2, 1]\n"
          ]
        }
      ]
    },
    {
      "cell_type": "code",
      "source": [
        "a1=[1,2,3,4,3,2]\n",
        "for i in range(len(a1)-1, -1, -1):     \n",
        "    print(a1[i])"
      ],
      "metadata": {
        "colab": {
          "base_uri": "https://localhost:8080/"
        },
        "id": "-DdeabABae_x",
        "outputId": "09d1b516-486b-459c-e7a3-c64697d20141"
      },
      "execution_count": null,
      "outputs": [
        {
          "output_type": "stream",
          "name": "stdout",
          "text": [
            "2\n",
            "3\n",
            "4\n",
            "3\n",
            "2\n",
            "1\n"
          ]
        }
      ]
    },
    {
      "cell_type": "markdown",
      "source": [
        "6. Elements at even position"
      ],
      "metadata": {
        "id": "6o3AY968aoyI"
      }
    },
    {
      "cell_type": "code",
      "source": [
        "a1=[1,2,3,4,3,2]\n",
        "for i in range(1,len(a1),2):\n",
        "  print(a1[i])"
      ],
      "metadata": {
        "colab": {
          "base_uri": "https://localhost:8080/"
        },
        "id": "9pJX9vxNanzF",
        "outputId": "353eb2de-ab68-497c-cf1e-ecf6a8f1ec6e"
      },
      "execution_count": null,
      "outputs": [
        {
          "output_type": "stream",
          "name": "stdout",
          "text": [
            "2\n",
            "4\n",
            "2\n"
          ]
        }
      ]
    },
    {
      "cell_type": "markdown",
      "source": [
        "7. Elements at odd position"
      ],
      "metadata": {
        "id": "NhKzaSmobCut"
      }
    },
    {
      "cell_type": "code",
      "source": [
        "a1=[1,2,3,4,3,2]\n",
        "for i in range(0,len(a1),2):\n",
        "  print(a1[i])"
      ],
      "metadata": {
        "colab": {
          "base_uri": "https://localhost:8080/"
        },
        "id": "loIHHT4cbBUu",
        "outputId": "2ce98451-9784-435c-e869-d6ee63f8e528"
      },
      "execution_count": null,
      "outputs": [
        {
          "output_type": "stream",
          "name": "stdout",
          "text": [
            "1\n",
            "3\n",
            "3\n"
          ]
        }
      ]
    },
    {
      "cell_type": "markdown",
      "source": [
        "8. Largest no. in array"
      ],
      "metadata": {
        "id": "RvgQKYJVbepd"
      }
    },
    {
      "cell_type": "code",
      "source": [
        "a1=[1,2,3,4,3,2]\n",
        "largest=a1[0]\n",
        "for i in range(0,len(a1)):\n",
        "  if a1[i]>largest:\n",
        "    largest=a1[i]\n",
        "print(\"largest= \",largest)"
      ],
      "metadata": {
        "colab": {
          "base_uri": "https://localhost:8080/"
        },
        "id": "JEi4ioiRbkdt",
        "outputId": "89d45a6d-5805-4d2f-d4cc-1cedfaa93e65"
      },
      "execution_count": null,
      "outputs": [
        {
          "output_type": "stream",
          "name": "stdout",
          "text": [
            "largest=  4\n"
          ]
        }
      ]
    },
    {
      "cell_type": "markdown",
      "source": [
        "9. Smallest no. in array"
      ],
      "metadata": {
        "id": "dvOClBrkcCrk"
      }
    },
    {
      "cell_type": "code",
      "source": [
        "a1=[1,2,3,4,3,2]\n",
        "smallest=a1[0]\n",
        "for i in range(0,len(a1)):\n",
        "  if a1[i]<smallest:\n",
        "    smallest=a1[i]\n",
        "print(\"smallest \",smallest)"
      ],
      "metadata": {
        "colab": {
          "base_uri": "https://localhost:8080/"
        },
        "id": "XF-Pj8sMcBPF",
        "outputId": "a3884c46-9315-47ab-811f-3c2f7b90fc2e"
      },
      "execution_count": null,
      "outputs": [
        {
          "output_type": "stream",
          "name": "stdout",
          "text": [
            "smallest  1\n"
          ]
        }
      ]
    },
    {
      "cell_type": "markdown",
      "source": [
        "10. No. of elements in array."
      ],
      "metadata": {
        "id": "Xh_DlWEncRrq"
      }
    },
    {
      "cell_type": "code",
      "source": [
        "a1=[1,2,3,4,3,2]\n",
        "print(len(a1))"
      ],
      "metadata": {
        "colab": {
          "base_uri": "https://localhost:8080/"
        },
        "id": "8rjxcQwJck7E",
        "outputId": "7afadb13-d1d4-4ca1-fce8-9bcd54646748"
      },
      "execution_count": null,
      "outputs": [
        {
          "output_type": "stream",
          "name": "stdout",
          "text": [
            "6\n"
          ]
        }
      ]
    },
    {
      "cell_type": "code",
      "source": [
        "# Unique elements\n",
        "a1=[1,2,3,4,3,2]\n",
        "a1=set(a1)\n",
        "print(len(a1))"
      ],
      "metadata": {
        "colab": {
          "base_uri": "https://localhost:8080/"
        },
        "id": "UdkXlFitfDIM",
        "outputId": "6b1b10de-4ca0-43d0-f0aa-9b8976cf270b"
      },
      "execution_count": null,
      "outputs": [
        {
          "output_type": "stream",
          "name": "stdout",
          "text": [
            "4\n"
          ]
        }
      ]
    },
    {
      "cell_type": "markdown",
      "source": [
        "11. Sum of elements of array."
      ],
      "metadata": {
        "id": "VV5626R9fQAm"
      }
    },
    {
      "cell_type": "code",
      "source": [
        "a1=[1,2,3,4,3,2]\n",
        "sum=0\n",
        "for i in range(0,len(a1)):\n",
        "  sum+=a1[i]\n",
        "print(sum)"
      ],
      "metadata": {
        "colab": {
          "base_uri": "https://localhost:8080/"
        },
        "id": "bqYyaFoxfliL",
        "outputId": "447b6d92-8f99-430b-8bc7-99ea1527a018"
      },
      "execution_count": null,
      "outputs": [
        {
          "output_type": "stream",
          "name": "stdout",
          "text": [
            "15\n"
          ]
        }
      ]
    },
    {
      "cell_type": "markdown",
      "source": [
        "12. Right Rotation of Array."
      ],
      "metadata": {
        "id": "W9sb_T8Af9Hd"
      }
    },
    {
      "cell_type": "code",
      "source": [
        "arr = [1, 2, 3, 4, 5]\n",
        "n = 3\n",
        "     \n",
        "print(\"Before \",arr)\n",
        "     \n",
        "for i in range(0, n):    \n",
        "    last = arr[len(arr)-1]\n",
        "    for j in range(len(arr)-1, -1, -1):    \n",
        "        arr[j] = arr[j-1]\n",
        "    arr[0] = last\n",
        "     \n",
        "print(\"After \",arr) "
      ],
      "metadata": {
        "colab": {
          "base_uri": "https://localhost:8080/"
        },
        "id": "wmiuoDF6f8go",
        "outputId": "3a9050e8-351a-45dc-d24f-e941f9c57c54"
      },
      "execution_count": null,
      "outputs": [
        {
          "output_type": "stream",
          "name": "stdout",
          "text": [
            "Before  [1, 2, 3, 4, 5]\n",
            "After  [3, 4, 5, 1, 2]\n"
          ]
        }
      ]
    },
    {
      "cell_type": "markdown",
      "source": [
        "13. Array in Ascending Order."
      ],
      "metadata": {
        "id": "mPCOI1yUl-GQ"
      }
    },
    {
      "cell_type": "code",
      "source": [
        "a1=[1,2,3,4,3,2]\n",
        "temp=0\n",
        "for i in range(0,len(a1)):\n",
        "  for j in range(i+1,len(a1)):\n",
        "    if a1[i]>a1[j]:\n",
        "      temp=a1[i]\n",
        "      a1[i]=a1[j]\n",
        "      a1[j]=temp\n",
        "print(a1)"
      ],
      "metadata": {
        "colab": {
          "base_uri": "https://localhost:8080/"
        },
        "id": "hLsT7Ub1mCPp",
        "outputId": "4825d9e1-da7e-4c18-ac56-482f67b888e8"
      },
      "execution_count": null,
      "outputs": [
        {
          "output_type": "stream",
          "name": "stdout",
          "text": [
            "[1, 2, 2, 3, 3, 4]\n"
          ]
        }
      ]
    },
    {
      "cell_type": "markdown",
      "source": [
        "14. Array in Descending Order."
      ],
      "metadata": {
        "id": "IzQKQb-vnLlj"
      }
    },
    {
      "cell_type": "code",
      "source": [
        "a1=[1,2,3,4,3,2]\n",
        "temp=0\n",
        "for i in range(0,len(a1)):\n",
        "  for j in range(i+1,len(a1)):\n",
        "    if a1[i]<a1[j]:\n",
        "      temp=a1[i]\n",
        "      a1[i]=a1[j]\n",
        "      a1[j]=temp\n",
        "print(a1)"
      ],
      "metadata": {
        "colab": {
          "base_uri": "https://localhost:8080/"
        },
        "id": "-rhBMbdXnRYQ",
        "outputId": "08eacfd6-1241-46c8-dd25-e434fde263c7"
      },
      "execution_count": null,
      "outputs": [
        {
          "output_type": "stream",
          "name": "stdout",
          "text": [
            "[4, 3, 3, 2, 2, 1]\n"
          ]
        }
      ]
    },
    {
      "cell_type": "markdown",
      "source": [
        "# Python Matrix Programs"
      ],
      "metadata": {
        "id": "dUGTSOhAvSX0"
      }
    },
    {
      "cell_type": "markdown",
      "source": [
        "1. Matrix Addition"
      ],
      "metadata": {
        "id": "0otwDubV4qjO"
      }
    },
    {
      "cell_type": "code",
      "source": [
        "a1=[[1,3,8],\n",
        "    [2,3,5],\n",
        "    [5,7,7]]\n",
        "a2=[[2,3,4],\n",
        "    [2,3,5],\n",
        "    [1,3,9]]\n",
        "Result=[[0,0,0],\n",
        "        [0,0,0],\n",
        "        [0,0,0]]\n",
        "print(len(a1)) # gives no. of rows\n",
        "print(len(a1[0])) # gives no. of columns\n",
        "for i in range(0,len(a1)):\n",
        "  for j in range(0,len(a2[0])):\n",
        "    Result[i][j]=a1[i][j]+a2[i][j]\n",
        "print(Result)"
      ],
      "metadata": {
        "colab": {
          "base_uri": "https://localhost:8080/"
        },
        "id": "qXuuUq6ZvXaT",
        "outputId": "a4f1762d-0451-4871-c735-2841377fb31f"
      },
      "execution_count": 11,
      "outputs": [
        {
          "output_type": "stream",
          "name": "stdout",
          "text": [
            "3\n",
            "4\n",
            "[[3, 5, 7], [4, 6, 11], [6, 10, 16]]\n"
          ]
        }
      ]
    },
    {
      "cell_type": "markdown",
      "source": [
        "2. Matrix Multiplication"
      ],
      "metadata": {
        "id": "ayOR8IVc4vmW"
      }
    },
    {
      "cell_type": "code",
      "source": [
        "a1 = [[5, 4, 3],  \n",
        "     [2, 4, 6],  \n",
        "     [4, 7, 9]]    \n",
        "a2 = [[3, 2, 4],  \n",
        "     [4, 3, 6],  \n",
        "     [2, 7, 5]]  \n",
        "Result=[[0,0,0],\n",
        "        [0,0,0],\n",
        "        [0,0,0]]\n",
        "for i in range(0,len(a1)):\n",
        "  for j in range(0,len(a2[0])):\n",
        "    for k in range(0,len(a2)):\n",
        "      Result[i][j]=Result[i][j]+a1[j][k] * a2[k][j] \n",
        "print(Result)"
      ],
      "metadata": {
        "colab": {
          "base_uri": "https://localhost:8080/"
        },
        "id": "38t7Jpie8h9G",
        "outputId": "0a5f46d3-9d98-4d59-a90b-37a6fd63e0ee"
      },
      "execution_count": 15,
      "outputs": [
        {
          "output_type": "stream",
          "name": "stdout",
          "text": [
            "[[37, 58, 103], [37, 58, 103], [37, 58, 103]]\n"
          ]
        }
      ]
    },
    {
      "cell_type": "code",
      "source": [
        "import numpy as np\n",
        "\n",
        "a1 = [[1, 3, 8],\n",
        "      [2, 3, 5],\n",
        "      [5, 7, 7]]\n",
        "\n",
        "a2 = [[2, 3, 4],\n",
        "      [2, 3, 5],\n",
        "      [1, 3, 9]]\n",
        "\n",
        "result = np.dot(a1, a2)\n",
        "print(result)"
      ],
      "metadata": {
        "colab": {
          "base_uri": "https://localhost:8080/"
        },
        "id": "-Q0UELiWCezS",
        "outputId": "715276f9-dba8-4f75-8649-39e869ae2823"
      },
      "execution_count": 16,
      "outputs": [
        {
          "output_type": "stream",
          "name": "stdout",
          "text": [
            "[[ 16  36  91]\n",
            " [ 15  30  68]\n",
            " [ 31  57 118]]\n"
          ]
        }
      ]
    },
    {
      "cell_type": "markdown",
      "source": [
        "3. Matrix Transposition"
      ],
      "metadata": {
        "id": "2NG7Ft5hCrfS"
      }
    },
    {
      "cell_type": "code",
      "source": [
        "a1 = [[5, 4, 3],  \n",
        "     [2, 4, 6],  \n",
        "     [4, 7, 9]]     \n",
        "Result=[[0,0,0],\n",
        "        [0,0,0],\n",
        "        [0,0,0]]\n",
        "for i in range(0,len(a1)):\n",
        "  for j in range(0,len(a2[0])):\n",
        "    Result[i][j]=a1[j][i]\n",
        "print(Result)       "
      ],
      "metadata": {
        "colab": {
          "base_uri": "https://localhost:8080/"
        },
        "id": "TFObWH5vCvNR",
        "outputId": "446da290-068f-47b0-90bd-0ddcc18e2b5f"
      },
      "execution_count": 17,
      "outputs": [
        {
          "output_type": "stream",
          "name": "stdout",
          "text": [
            "[[5, 2, 4], [4, 4, 7], [3, 6, 9]]\n"
          ]
        }
      ]
    }
  ]
}